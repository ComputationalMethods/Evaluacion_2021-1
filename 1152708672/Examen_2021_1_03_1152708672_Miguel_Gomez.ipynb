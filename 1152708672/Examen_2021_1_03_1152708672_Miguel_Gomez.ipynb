{
  "nbformat": 4,
  "nbformat_minor": 0,
  "metadata": {
    "kernelspec": {
      "display_name": "Python 3 (ipykernel)",
      "language": "python",
      "name": "python3"
    },
    "language_info": {
      "codemirror_mode": {
        "name": "ipython",
        "version": 3
      },
      "file_extension": ".py",
      "mimetype": "text/x-python",
      "name": "python",
      "nbconvert_exporter": "python",
      "pygments_lexer": "ipython3",
      "version": "3.7.3"
    },
    "colab": {
      "name": "Copia de Examen_2021_1_03_enunciado.ipynb",
      "provenance": [],
      "collapsed_sections": []
    }
  },
  "cells": [
    {
      "cell_type": "markdown",
      "metadata": {
        "id": "40WhQJy2EWqx"
      },
      "source": [
        "# Casas-Ibarra\n",
        "Let $\\boldsymbol{A}$ $3\\times3$ a symmetric non-diagonal matrix with the following set of eigenvalues and eigenvectors:\n"
      ]
    },
    {
      "cell_type": "markdown",
      "metadata": {
        "id": "cwKjVMtNvgl0"
      },
      "source": [
        "____"
      ]
    },
    {
      "cell_type": "markdown",
      "metadata": {
        "id": "G-uQDCOkvgl0"
      },
      "source": [
        "### Eigenvalues\n",
        "The normal ordering of the absolute value of the eigenvalues is $m_1<m_2<m_3$. Each eigenvalue is expressed in units of eV, which just of an energy unit.\n",
        "### Eigenvectors\n",
        "The eigenvectors in the normal ordering are defined by\n",
        "$$\n",
        "\\boldsymbol{U}^T \\boldsymbol{A} \\boldsymbol{U}=\n",
        "\\begin{pmatrix}\n",
        "m_1& 0 & 0\\\\\n",
        "0 & m_2& 0\\\\\n",
        "0 & 0 & m_3\\\\\n",
        "\\end{pmatrix}.\n",
        "$$\n",
        "The unitary matrix can be parameterized in terms of three mixing angles, $\\theta_{23}$ $\\theta_{13}$, $\\theta_{12}$, such that\n",
        "$$\n",
        "\\boldsymbol{U}=\\left(\\begin{array}{ccc}\n",
        "1 & 0 & 0 \\\\\n",
        "0 & c_{23} & s_{23} \\\\\n",
        "0 & -s_{23} & c_{23}\n",
        "\\end{array}\\right) \\cdot\\left(\\begin{array}{ccc}\n",
        "c_{13} & 0 & s_{13}  \\\\\n",
        "0 & 1 & 0 \\\\\n",
        "-s_{13}  & 0 & c_{13}\n",
        "\\end{array}\\right) \\cdot\\left(\\begin{array}{ccc}\n",
        "c_{12} & s_{12} & 0 \\\\\n",
        "-s_{12} & c_{12} & 0 \\\\\n",
        "0 & 0 & 1\n",
        "\\end{array}\\right),\n",
        "$$\n",
        "where $c_{i j} \\equiv \\cos \\theta_{i j}$ and $s_{i j} \\equiv \\sin \\theta_{i j}$. Thus, we can write $\\boldsymbol{U}$ as\n",
        "$$\n",
        "\\boldsymbol{U}=\\left(\\begin{array}{ccc}c_{12} c_{13} & s_{12} c_{13} & s_{13}  \\\\ -s_{12} c_{23}-c_{12} s_{13} s_{23}& c_{12} c_{23}-s_{12} s_{13} s_{23}  & c_{13} s_{23} \\\\ s_{12} s_{23}-c_{12} s_{13} c_{23} & -c_{12} s_{23}-s_{12} s_{13} c_{23}  & c_{13} c_{23}\\end{array}\\right)\n",
        "$$\n",
        "so that\n",
        "$$\n",
        "\\boldsymbol{U}_1=\\begin{pmatrix}U_{e1}\\\\ U_{\\mu 1}\\\\ U_{\\tau 1}\\end{pmatrix}=\\begin{pmatrix}\n",
        "c_{12} c_{13} \\\\\n",
        "-s_{12} c_{23}-c_{12} s_{13} s_{23}  \\\\\n",
        "s_{12} s_{23}-c_{12} s_{13} c_{23} \n",
        "\\end{pmatrix},\\qquad \n",
        "\\boldsymbol{U}_2=\\begin{pmatrix}U_{e2}\\\\ U_{\\mu 2}\\\\ U_{\\tau 2}\\end{pmatrix}=\\begin{pmatrix}\n",
        "s_{12} c_{13} \\\\\n",
        "c_{12} c_{23}-s_{12} s_{13} s_{23}  \\\\\n",
        "-c_{12} s_{23}-s_{12} s_{13} c_{23} \n",
        "\\end{pmatrix},\\qquad\n",
        "\\boldsymbol{U}_3=\\begin{pmatrix}U_{e3}\\\\ U_{\\mu 3}\\\\ U_{\\tau 3}\\end{pmatrix}=\\begin{pmatrix}\n",
        "s_{13}  \\\\\n",
        "c_{13} s_{23} \\\\\n",
        "c_{13} c_{23}\n",
        "\\end{pmatrix}\n",
        "$$\n",
        "\n",
        "### Data\n",
        "Use the _central values_  of the following table but ignoring $\\delta_{CP}$ (In the previous equations was fixed to $\\delta_{CP}=0$). __Hint__: take care of the denominator in the first colum.\n",
        "\n",
        "![IMAGE](https://github.com/restrepo/ComputationalMethods/raw/master/material/figures/nu.png)\n",
        "\n",
        "where $\\Delta m^2_{ij}=m^2_i-m^2_j$ is the squared mass difference between eigenvalues $i$ and $j$; in units of $\\text{eV}^2$.\n"
      ]
    },
    {
      "cell_type": "markdown",
      "metadata": {
        "id": "bnSCrqmSvgl1"
      },
      "source": [
        "### Casas-Ibarra parameterization\n",
        "We can assumme without lost of generality that $\\boldsymbol{A}$ can be generated from a matrix $\\boldsymbol{Y}$ such that\n",
        "$$\n",
        "\\boldsymbol{A}=\\boldsymbol{Y}^{\\operatorname{T}}\\boldsymbol{Y}\n",
        "$$\n",
        "\n",
        "The matrix $\\boldsymbol{Y}$ can be parameterized in terms of an arbitray orthogonal $3\\times 3$ matrix, $\\boldsymbol{R}$, as\n",
        "$$\n",
        "\\boldsymbol{Y}=\\boldsymbol{R} \\boldsymbol{D}_{\\sqrt{m}} \\boldsymbol{U}^{\\operatorname{T}}\n",
        "$$\n",
        "\n",
        "\n",
        "* $R$ is an orthogonal $3\\times 3$ matrix, with three rotation angles $\\alpha_{ij}$ between $(0,2\\pi)$\n",
        "$$\n",
        "\\boldsymbol{R}=\\left(\\begin{array}{ccc}c^\\alpha_{12} c^\\alpha_{13} & s^\\alpha_{12} c^\\alpha_{13} & s^\\alpha_{13}  \\\\ -s^\\alpha_{12} c^\\alpha_{23}-c^\\alpha_{12} s^\\alpha_{13} s^\\alpha_{23}& c^\\alpha_{12} c^\\alpha_{23}-s^\\alpha_{12} s^\\alpha_{13} s^\\alpha_{23}  & c^\\alpha_{13} s^\\alpha_{23} \\\\ s^\\alpha_{12} s^\\alpha_{23}-c^\\alpha_{12} s^\\alpha_{13} c^\\alpha_{23} & -c^\\alpha_{12} s^\\alpha_{23}-s^\\alpha_{12} s^\\alpha_{13} c^\\alpha_{23}  & c^\\alpha_{13} c^\\alpha_{23}\\end{array}\\right)\n",
        "$$\n",
        "where $c^\\alpha_{i j} \\equiv \\cos \\alpha_{i j}$ and $s^\\alpha_{i j} \\equiv \\sin \\alpha_{i j}$.\n",
        "\n",
        "* $$\n",
        " \\boldsymbol{D}_{\\sqrt{m}}=\\operatorname{diag}\\left(\\sqrt{m_1},\\sqrt{m_2},\\sqrt{m_3}\\right)\n",
        "$$"
      ]
    },
    {
      "cell_type": "markdown",
      "metadata": {
        "id": "Iqj7EWSPvgl3"
      },
      "source": [
        "### Problem\n",
        "1. Choose a random value for $m_1$ between $10^{-9}\\ \\text{eV}$ and $10^{-4}\\ \\text{eV}$. Note that because of the wide range, the random variation  must be in the exponents. Obtain the corresponding $m_2$ and $m_3$ with the proper normal ordering.\n",
        "1. Choose random values for $\\alpha_{ij}$  between $(0,2\\pi)$\n",
        "1. Obtain $\\boldsymbol{Y}$\n",
        "1. Check that the generated $\\boldsymbol{A}$ has the proper eigenvalues and eigenvectors\n",
        "1. Check that the eigenvalues of $\\boldsymbol{Y}$ correspond to the square root of the eigenvalues of $\\boldsymbol{A}$ and explain why."
      ]
    },
    {
      "cell_type": "code",
      "metadata": {
        "id": "2J0n-8Rfvqks"
      },
      "source": [
        "# Librerias\n",
        "\n",
        "import numpy as np\n",
        "import scipy.linalg as la\n",
        "import matplotlib.pyplot as plt"
      ],
      "execution_count": 75,
      "outputs": []
    },
    {
      "cell_type": "code",
      "metadata": {
        "id": "OiVJ_rRUD12l"
      },
      "source": [
        "# Primero se determinan m1, m2 y m3\n",
        "\n",
        "m1 = 10e-7 # Valor aleatorio para m1\n",
        "delt_m_21 = 7.39e-5 \n",
        "delt_m_32 = 2.449e-3\n"
      ],
      "execution_count": 76,
      "outputs": []
    },
    {
      "cell_type": "markdown",
      "metadata": {
        "id": "kEVuAW10FgP3"
      },
      "source": [
        "Para hallar $m_2$ hago uso de: \\\\\n",
        "$\\Delta m^2_{ij}=m^2_i-m^2_j$ \\\\\n",
        "\n",
        "$\\Delta m^2_{21}=m^2_2-m^2_1$ \\\\\n",
        "\n",
        "$m_2 = \\sqrt{\\Delta m^2_{21} + m^2_1} $ \\\\\n",
        "\n",
        "y para hallar $m_3$ \\\\\n",
        "\n",
        "$\\Delta m^2_{32}=m^2_3-m^2_2$ \\\\\n",
        "\n",
        "$m_3 = \\sqrt{\\Delta m^2_{32} + m^2_2} $"
      ]
    },
    {
      "cell_type": "code",
      "metadata": {
        "colab": {
          "base_uri": "https://localhost:8080/"
        },
        "id": "rU8Uc64VG-Z8",
        "outputId": "82056a68-8246-4147-eb2a-28392bdfebf4"
      },
      "source": [
        "m2 = np.sqrt(delt_m_21 + (m1)**2)\n",
        "m2"
      ],
      "execution_count": 77,
      "outputs": [
        {
          "output_type": "execute_result",
          "data": {
            "text/plain": [
              "0.008596510978298114"
            ]
          },
          "metadata": {},
          "execution_count": 77
        }
      ]
    },
    {
      "cell_type": "code",
      "metadata": {
        "colab": {
          "base_uri": "https://localhost:8080/"
        },
        "id": "2LnZme-YIPes",
        "outputId": "24f552b7-3776-48a7-b585-776d3598e0a2"
      },
      "source": [
        "m3 = np.sqrt(delt_m_32 + (m2)**2)\n",
        "m3"
      ],
      "execution_count": 78,
      "outputs": [
        {
          "output_type": "execute_result",
          "data": {
            "text/plain": [
              "0.05022847798808958"
            ]
          },
          "metadata": {},
          "execution_count": 78
        }
      ]
    },
    {
      "cell_type": "code",
      "metadata": {
        "id": "8FSvQZhj-1YM"
      },
      "source": [
        "# Determino la matriz U\n",
        "\n",
        "theta_12 = 33.82*(np.pi/180) # radianes \n",
        "theta_23 = 48.3*(np.pi/180) # radianes \n",
        "theta_13 = 8.61*(np.pi/180) # radianes\n",
        "\n",
        "c_12 = np.cos(theta_12)\n",
        "c_23 = np.cos(theta_23)\n",
        "c_13 = np.cos(theta_13)\n",
        "s_12 = np.sin(theta_12)\n",
        "s_23 = np.sin(theta_23)\n",
        "s_13 = np.sin(theta_13)"
      ],
      "execution_count": 79,
      "outputs": []
    },
    {
      "cell_type": "markdown",
      "metadata": {
        "id": "1Mh1awftKZ2c"
      },
      "source": [
        "$$\n",
        "\\boldsymbol{U}=\\left(\\begin{array}{ccc}c_{12} c_{13} & s_{12} c_{13} & s_{13}  \\\\ -s_{12} c_{23}-c_{12} s_{13} s_{23}& c_{12} c_{23}-s_{12} s_{13} s_{23}  & c_{13} s_{23} \\\\ s_{12} s_{23}-c_{12} s_{13} c_{23} & -c_{12} s_{23}-s_{12} s_{13} c_{23}  & c_{13} c_{23}\\end{array}\\right)\n",
        "$$"
      ]
    },
    {
      "cell_type": "code",
      "metadata": {
        "id": "g4aV29ruERsg"
      },
      "source": [
        "U_11 = c_12*c_13\n",
        "U_12 = s_12*c_13\n",
        "U_13 = s_13\n",
        "U_21 = -(s_12*c_23)-(c_12*s_13*s_23)\n",
        "U_22 = (c_12*c_23)-(s_12*s_13*s_23)\n",
        "U_23 = c_13*s_23\n",
        "U_31 = (s_12*s_23)-(c_12*s_13*c_23)\n",
        "U_32 = -(c_12*s_23)-(s_12*s_13*c_23)\n",
        "U_33 = c_13*c_23\n",
        "\n",
        "U = np.array ([[U_11, U_12, U_13],\n",
        "              [U_21, U_22, U_23],\n",
        "              [U_31, U_32, U_33]])\n",
        "UT = np.transpose(U)"
      ],
      "execution_count": 80,
      "outputs": []
    },
    {
      "cell_type": "markdown",
      "metadata": {
        "id": "T7a8zWLzbMW0"
      },
      "source": [
        "Para conseguir $Y$ debo obtener $\\boldsymbol{D}_{\\sqrt{m}}$  y $R$"
      ]
    },
    {
      "cell_type": "code",
      "metadata": {
        "colab": {
          "base_uri": "https://localhost:8080/"
        },
        "id": "fCUAGJvJFSRW",
        "outputId": "ac044c65-7a0b-4ad1-9ed6-e9dca44e449d"
      },
      "source": [
        "# Obteniedno D_sqrt(m)\n",
        "\n",
        "D_m = np.diag([np.sqrt(m1), np.sqrt(m2), np.sqrt(m3)])\n",
        "D_m"
      ],
      "execution_count": 81,
      "outputs": [
        {
          "output_type": "execute_result",
          "data": {
            "text/plain": [
              "array([[0.001     , 0.        , 0.        ],\n",
              "       [0.        , 0.09271737, 0.        ],\n",
              "       [0.        , 0.        , 0.22411711]])"
            ]
          },
          "metadata": {},
          "execution_count": 81
        }
      ]
    },
    {
      "cell_type": "code",
      "metadata": {
        "id": "Ohvp0SyZNSqO"
      },
      "source": [
        "# Obteniendo R\n",
        "\n",
        "# Primero se toman valores arbitrarios para alpha\n",
        "\n",
        "alfa_12 = np.pi/2 # radianes \n",
        "alfa_23 = np.pi # radianes \n",
        "alfa_13 = (3*np.pi)/2 # radianes\n",
        "\n",
        "ca_12 = np.cos(alfa_12)\n",
        "ca_23 = np.cos(alfa_23)\n",
        "ca_13 = np.cos(alfa_13)\n",
        "sa_12 = np.sin(alfa_12)\n",
        "sa_23 = np.sin(alfa_23)\n",
        "sa_13 = np.sin(alfa_13)"
      ],
      "execution_count": 82,
      "outputs": []
    },
    {
      "cell_type": "markdown",
      "metadata": {
        "id": "JIdHUbYpeiuM"
      },
      "source": [
        "$$\n",
        "\\boldsymbol{R}=\\left(\\begin{array}{ccc}c^\\alpha_{12} c^\\alpha_{13} & s^\\alpha_{12} c^\\alpha_{13} & s^\\alpha_{13}  \\\\ -s^\\alpha_{12} c^\\alpha_{23}-c^\\alpha_{12} s^\\alpha_{13} s^\\alpha_{23}& c^\\alpha_{12} c^\\alpha_{23}-s^\\alpha_{12} s^\\alpha_{13} s^\\alpha_{23}  & c^\\alpha_{13} s^\\alpha_{23} \\\\ s^\\alpha_{12} s^\\alpha_{23}-c^\\alpha_{12} s^\\alpha_{13} c^\\alpha_{23} & -c^\\alpha_{12} s^\\alpha_{23}-s^\\alpha_{12} s^\\alpha_{13} c^\\alpha_{23}  & c^\\alpha_{13} c^\\alpha_{23}\\end{array}\\right)\n",
        "$$"
      ]
    },
    {
      "cell_type": "code",
      "metadata": {
        "id": "EqVj7ObrNl0v"
      },
      "source": [
        "R_11 = ca_12*ca_13\n",
        "R_12 = sa_12*ca_13\n",
        "R_13 = sa_13\n",
        "R_21 = -(sa_12*ca_23)-(ca_12*sa_13*sa_23)\n",
        "R_22 = (ca_12*ca_23)-(sa_12*sa_13*sa_23)\n",
        "R_23 = ca_13*sa_23\n",
        "R_31 = (sa_12*sa_23)-(ca_12*sa_13*ca_23)\n",
        "R_32 = -(ca_12*sa_23)-(sa_12*sa_13*ca_23)\n",
        "R_33 = ca_13*ca_23\n",
        "\n",
        "R = np.array ([[R_11, R_12, R_13],\n",
        "              [R_21, R_22, R_23],\n",
        "              [R_31, R_32, R_33]])"
      ],
      "execution_count": 83,
      "outputs": []
    },
    {
      "cell_type": "markdown",
      "metadata": {
        "id": "miy3ye6qfTsE"
      },
      "source": [
        "Con la información anterior se puede hallar $Y$\n",
        "$$\n",
        "\\boldsymbol{Y}=\\boldsymbol{R} \\boldsymbol{D}_{\\sqrt{m}} \\boldsymbol{U}^{\\operatorname{T}}\n",
        "$$\n"
      ]
    },
    {
      "cell_type": "code",
      "metadata": {
        "colab": {
          "base_uri": "https://localhost:8080/"
        },
        "id": "o0dRagiNfMAe",
        "outputId": "081da15f-e522-4144-d9ba-945edb69b0ff"
      },
      "source": [
        "# Hallando Y\n",
        "\n",
        "Y = R @ (D_m @ UT)\n",
        "print('La matriz Y es:\\n',Y)"
      ],
      "execution_count": 84,
      "outputs": [
        {
          "output_type": "stream",
          "name": "stdout",
          "text": [
            "La matriz Y es:\n",
            " [[-0.0335521  -0.16544858 -0.1474093 ]\n",
            " [ 0.00082143 -0.00046312  0.00033283]\n",
            " [-0.05102358 -0.04547352  0.06265193]]\n"
          ]
        }
      ]
    },
    {
      "cell_type": "markdown",
      "metadata": {
        "id": "Pksxw1whf7sE"
      },
      "source": [
        "Ahora se comprueba $A$ \n",
        "$$\n",
        "\\boldsymbol{A}=\\boldsymbol{Y}^{\\operatorname{T}}\\boldsymbol{Y}\n",
        "$$\n"
      ]
    },
    {
      "cell_type": "code",
      "metadata": {
        "colab": {
          "base_uri": "https://localhost:8080/"
        },
        "id": "BU8QyxIdfj1o",
        "outputId": "55423cb6-0af3-4c3d-a6f9-160725a9e67f"
      },
      "source": [
        "A = (np.transpose(Y)) @ Y\n",
        "A"
      ],
      "execution_count": 85,
      "outputs": [
        {
          "output_type": "execute_result",
          "data": {
            "text/plain": [
              "array([[0.00372982, 0.00787099, 0.00174944],\n",
              "       [0.00787099, 0.02944129, 0.0215395 ],\n",
              "       [0.00174944, 0.0215395 , 0.02565488]])"
            ]
          },
          "metadata": {},
          "execution_count": 85
        }
      ]
    },
    {
      "cell_type": "code",
      "metadata": {
        "id": "itSxdE4dgVB7"
      },
      "source": [
        "av, avec = np.linalg.eig(A)"
      ],
      "execution_count": 86,
      "outputs": []
    },
    {
      "cell_type": "code",
      "metadata": {
        "colab": {
          "base_uri": "https://localhost:8080/"
        },
        "id": "EOM02tAPgV3k",
        "outputId": "b99ef238-46bf-488c-c178-cbbfa7fa7820"
      },
      "source": [
        "# Se comparan los autovalores \n",
        "\n",
        "print('autovalores de A: \\n',av)\n",
        "print('autovalores del inicio del ejercicio: \\n',np.array([m1, m2, m3]))"
      ],
      "execution_count": 87,
      "outputs": [
        {
          "output_type": "stream",
          "name": "stdout",
          "text": [
            "autovalores de A: \n",
            " [5.02284780e-02 1.00000000e-06 8.59651098e-03]\n",
            "autovalores del inicio del ejercicio: \n",
            " [1.00000000e-06 8.59651098e-03 5.02284780e-02]\n"
          ]
        }
      ]
    },
    {
      "cell_type": "code",
      "metadata": {
        "colab": {
          "base_uri": "https://localhost:8080/"
        },
        "id": "sj4mDEpHiHpg",
        "outputId": "c88d5b1f-ed0f-4e61-8503-9a8598ac9bdc"
      },
      "source": [
        "# Se comparan los autovectores \n",
        "\n",
        "print('Autovectores de A:\\n', avec)\n",
        "print ('Autovectores U: \\n',U)"
      ],
      "execution_count": 88,
      "outputs": [
        {
          "output_type": "stream",
          "name": "stdout",
          "text": [
            "Autovectores de A:\n",
            " [[-0.14970791 -0.82142745 -0.55031308]\n",
            " [-0.73822377  0.46312144 -0.49045305]\n",
            " [-0.65773339 -0.33282949  0.67573021]]\n",
            "Autovectores U: \n",
            " [[ 0.82142745  0.55031308  0.14970791]\n",
            " [-0.46312144  0.49045305  0.73822377]\n",
            " [ 0.33282949 -0.67573021  0.65773339]]\n"
          ]
        }
      ]
    },
    {
      "cell_type": "markdown",
      "metadata": {
        "id": "YeLQ-9VYEDIC"
      },
      "source": [
        "Salen los mismo terminos pero con signo contrario, no encuentro la razón."
      ]
    },
    {
      "cell_type": "code",
      "metadata": {
        "colab": {
          "base_uri": "https://localhost:8080/"
        },
        "id": "pwcypSTjixYM",
        "outputId": "c9ce9ed8-f294-4bc6-d294-5f9ea9804993"
      },
      "source": [
        "# Ahora se comparan los autovalores de Y con la raiz cuadrada de los autovalores de A\n",
        "\n",
        "np.linalg.eigvals(A)**0.5, np.linalg.eigvals(Y)"
      ],
      "execution_count": 67,
      "outputs": [
        {
          "output_type": "execute_result",
          "data": {
            "text/plain": [
              "(array([0.22411711, 0.001     , 0.09271737]),\n",
              " array([ 0.11368479, -0.08284169, -0.0022064 ]))"
            ]
          },
          "metadata": {},
          "execution_count": 67
        }
      ]
    },
    {
      "cell_type": "code",
      "metadata": {
        "colab": {
          "base_uri": "https://localhost:8080/"
        },
        "id": "ZCj9Vx8MT7zX",
        "outputId": "91edee17-ff3e-4f27-e3eb-1f1cb52ec00b"
      },
      "source": [
        "av[0]**0.5-np.linalg.eigvals(Y)[0]"
      ],
      "execution_count": 70,
      "outputs": [
        {
          "output_type": "execute_result",
          "data": {
            "text/plain": [
              "0.11043231318682106"
            ]
          },
          "metadata": {},
          "execution_count": 70
        }
      ]
    },
    {
      "cell_type": "code",
      "metadata": {
        "colab": {
          "base_uri": "https://localhost:8080/"
        },
        "id": "NNZrQgahWZtf",
        "outputId": "1b20b57d-e693-4f74-ef86-34b1680f66a8"
      },
      "source": [
        "av[1]**0.5-(-np.linalg.eigvals(Y)[2])"
      ],
      "execution_count": 72,
      "outputs": [
        {
          "output_type": "execute_result",
          "data": {
            "text/plain": [
              "-0.001206402792214088"
            ]
          },
          "metadata": {},
          "execution_count": 72
        }
      ]
    },
    {
      "cell_type": "code",
      "metadata": {
        "colab": {
          "base_uri": "https://localhost:8080/"
        },
        "id": "M4Pkx_fJWh-_",
        "outputId": "048d9eeb-ffc0-424b-f783-be647ed5b7d6"
      },
      "source": [
        "av[2]**0.5-(-np.linalg.eigvals(Y)[1])"
      ],
      "execution_count": 74,
      "outputs": [
        {
          "output_type": "execute_result",
          "data": {
            "text/plain": [
              "0.009875683322653997"
            ]
          },
          "metadata": {},
          "execution_count": 74
        }
      ]
    },
    {
      "cell_type": "markdown",
      "metadata": {
        "id": "PbBDkU4qXLXp"
      },
      "source": [
        "Las diferencias entre ambos valores son muy pequeñas, lo cual puede ser dado que no se tuvo en cuenta las incertidumbres de los valores iniciales en este ejercicio."
      ]
    }
  ]
}