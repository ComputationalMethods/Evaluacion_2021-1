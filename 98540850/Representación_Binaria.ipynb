{
  "nbformat": 4,
  "nbformat_minor": 0,
  "metadata": {
    "colab": {
      "name": "Representación Binaria",
      "provenance": []
    },
    "kernelspec": {
      "name": "python3",
      "display_name": "Python 3"
    },
    "language_info": {
      "name": "python"
    }
  },
  "cells": [
    {
      "cell_type": "code",
      "metadata": {
        "colab": {
          "base_uri": "https://localhost:8080/"
        },
        "id": "0nbHrxKy0BFk",
        "outputId": "63d56e9a-78ab-4ad4-a4d6-6c6da7100c66"
      },
      "source": [
        "#!/usr/bin/python3 \n",
        " \n",
        "def my_bin(numero):\n",
        "    \n",
        "    print(' __name__ = {} '.format(__name__))\n",
        "    binario = ''\n",
        "    while numero // 2 != 0:\n",
        "        \n",
        "        binario = str(numero % 2) + binario\n",
        "        numero = numero // 2\n",
        "       \n",
        "    return (str(numero) + binario).rjust(8,\"0\")\n",
        "if __name__=='__main__':\n",
        "    n = input('Ecriba un numero:\\n')\n",
        "    b=my_bin(int(n))\n",
        "    print('su representación binaria es : {}'.format(b))\n"
      ],
      "execution_count": 109,
      "outputs": [
        {
          "output_type": "stream",
          "text": [
            "Ecriba un numero:\n",
            "89763\n",
            " __name__ = __main__ \n",
            "su representación binaria es : 10101111010100011\n"
          ],
          "name": "stdout"
        }
      ]
    },
    {
      "cell_type": "code",
      "metadata": {
        "colab": {
          "base_uri": "https://localhost:8080/",
          "height": 35
        },
        "id": "R2KiRxGC5J0P",
        "outputId": "bd1b619a-690d-47e7-b867-8886bc5fbe9c"
      },
      "source": [
        "\n",
        "\n",
        "\n",
        "\n"
      ],
      "execution_count": 107,
      "outputs": [
        {
          "output_type": "execute_result",
          "data": {
            "application/vnd.google.colaboratory.intrinsic+json": {
              "type": "string"
            },
            "text/plain": [
              "'0b1100100'"
            ]
          },
          "metadata": {
            "tags": []
          },
          "execution_count": 107
        }
      ]
    },
    {
      "cell_type": "code",
      "metadata": {
        "id": "ddMNOFgy4W6h"
      },
      "source": [
        ""
      ],
      "execution_count": 86,
      "outputs": []
    }
  ]
}